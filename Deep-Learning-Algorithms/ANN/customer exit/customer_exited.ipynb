{
 "cells": [
  {
   "cell_type": "code",
   "execution_count": 1,
   "metadata": {},
   "outputs": [],
   "source": [
    "# Artificial Neural Network\n",
    "\n",
    "\n",
    "# Part 1 - Data Preprocessing\n",
    "\n",
    "# Importing the libraries\n",
    "import numpy as np\n",
    "import matplotlib.pyplot as plt\n",
    "import pandas as pd"
   ]
  },
  {
   "cell_type": "code",
   "execution_count": 2,
   "metadata": {},
   "outputs": [],
   "source": [
    "# Importing the dataset\n",
    "dataset = pd.read_csv('Churn_Modelling.csv')\n",
    "X = dataset.iloc[:, 3:13]\n",
    "y = dataset.iloc[:, 13]"
   ]
  },
  {
   "cell_type": "code",
   "execution_count": 3,
   "metadata": {},
   "outputs": [],
   "source": [
    "#Create dummy variables\n",
    "geography=pd.get_dummies(X[\"Geography\"],drop_first=True)\n",
    "gender=pd.get_dummies(X['Gender'],drop_first=True)"
   ]
  },
  {
   "cell_type": "code",
   "execution_count": 4,
   "metadata": {},
   "outputs": [],
   "source": [
    "## Concatenate the Data Frames\n",
    "\n",
    "X=pd.concat([X,geography,gender],axis=1)\n",
    "\n",
    "## Drop Unnecessary columns\n",
    "X=X.drop(['Geography','Gender'],axis=1)"
   ]
  },
  {
   "cell_type": "code",
   "execution_count": 6,
   "metadata": {},
   "outputs": [
    {
     "data": {
      "text/html": [
       "<div>\n",
       "<style scoped>\n",
       "    .dataframe tbody tr th:only-of-type {\n",
       "        vertical-align: middle;\n",
       "    }\n",
       "\n",
       "    .dataframe tbody tr th {\n",
       "        vertical-align: top;\n",
       "    }\n",
       "\n",
       "    .dataframe thead th {\n",
       "        text-align: right;\n",
       "    }\n",
       "</style>\n",
       "<table border=\"1\" class=\"dataframe\">\n",
       "  <thead>\n",
       "    <tr style=\"text-align: right;\">\n",
       "      <th></th>\n",
       "      <th>CreditScore</th>\n",
       "      <th>Age</th>\n",
       "      <th>Tenure</th>\n",
       "      <th>Balance</th>\n",
       "      <th>NumOfProducts</th>\n",
       "      <th>HasCrCard</th>\n",
       "      <th>IsActiveMember</th>\n",
       "      <th>EstimatedSalary</th>\n",
       "      <th>Germany</th>\n",
       "      <th>Spain</th>\n",
       "      <th>Male</th>\n",
       "    </tr>\n",
       "  </thead>\n",
       "  <tbody>\n",
       "    <tr>\n",
       "      <th>0</th>\n",
       "      <td>619</td>\n",
       "      <td>42</td>\n",
       "      <td>2</td>\n",
       "      <td>0.00</td>\n",
       "      <td>1</td>\n",
       "      <td>1</td>\n",
       "      <td>1</td>\n",
       "      <td>101348.88</td>\n",
       "      <td>0</td>\n",
       "      <td>0</td>\n",
       "      <td>0</td>\n",
       "    </tr>\n",
       "    <tr>\n",
       "      <th>1</th>\n",
       "      <td>608</td>\n",
       "      <td>41</td>\n",
       "      <td>1</td>\n",
       "      <td>83807.86</td>\n",
       "      <td>1</td>\n",
       "      <td>0</td>\n",
       "      <td>1</td>\n",
       "      <td>112542.58</td>\n",
       "      <td>0</td>\n",
       "      <td>1</td>\n",
       "      <td>0</td>\n",
       "    </tr>\n",
       "    <tr>\n",
       "      <th>2</th>\n",
       "      <td>502</td>\n",
       "      <td>42</td>\n",
       "      <td>8</td>\n",
       "      <td>159660.80</td>\n",
       "      <td>3</td>\n",
       "      <td>1</td>\n",
       "      <td>0</td>\n",
       "      <td>113931.57</td>\n",
       "      <td>0</td>\n",
       "      <td>0</td>\n",
       "      <td>0</td>\n",
       "    </tr>\n",
       "    <tr>\n",
       "      <th>3</th>\n",
       "      <td>699</td>\n",
       "      <td>39</td>\n",
       "      <td>1</td>\n",
       "      <td>0.00</td>\n",
       "      <td>2</td>\n",
       "      <td>0</td>\n",
       "      <td>0</td>\n",
       "      <td>93826.63</td>\n",
       "      <td>0</td>\n",
       "      <td>0</td>\n",
       "      <td>0</td>\n",
       "    </tr>\n",
       "    <tr>\n",
       "      <th>4</th>\n",
       "      <td>850</td>\n",
       "      <td>43</td>\n",
       "      <td>2</td>\n",
       "      <td>125510.82</td>\n",
       "      <td>1</td>\n",
       "      <td>1</td>\n",
       "      <td>1</td>\n",
       "      <td>79084.10</td>\n",
       "      <td>0</td>\n",
       "      <td>1</td>\n",
       "      <td>0</td>\n",
       "    </tr>\n",
       "  </tbody>\n",
       "</table>\n",
       "</div>"
      ],
      "text/plain": [
       "   CreditScore  Age  Tenure    Balance  NumOfProducts  HasCrCard  \\\n",
       "0          619   42       2       0.00              1          1   \n",
       "1          608   41       1   83807.86              1          0   \n",
       "2          502   42       8  159660.80              3          1   \n",
       "3          699   39       1       0.00              2          0   \n",
       "4          850   43       2  125510.82              1          1   \n",
       "\n",
       "   IsActiveMember  EstimatedSalary  Germany  Spain  Male  \n",
       "0               1        101348.88        0      0     0  \n",
       "1               1        112542.58        0      1     0  \n",
       "2               0        113931.57        0      0     0  \n",
       "3               0         93826.63        0      0     0  \n",
       "4               1         79084.10        0      1     0  "
      ]
     },
     "execution_count": 6,
     "metadata": {},
     "output_type": "execute_result"
    }
   ],
   "source": [
    "X.head()"
   ]
  },
  {
   "cell_type": "code",
   "execution_count": 8,
   "metadata": {},
   "outputs": [],
   "source": [
    "# Splitting the dataset into the Training set and Test set\n",
    "from sklearn.model_selection import train_test_split\n",
    "X_train, X_test, y_train, y_test = train_test_split(X, y, test_size = 0.2, random_state = 0)"
   ]
  },
  {
   "cell_type": "code",
   "execution_count": 9,
   "metadata": {},
   "outputs": [],
   "source": [
    "# Feature Scaling\n",
    "from sklearn.preprocessing import StandardScaler\n",
    "sc = StandardScaler()\n",
    "X_train = sc.fit_transform(X_train)\n",
    "X_test = sc.transform(X_test)"
   ]
  },
  {
   "cell_type": "code",
   "execution_count": 10,
   "metadata": {},
   "outputs": [],
   "source": [
    "# Importing the Keras libraries and packages\n",
    "import keras\n",
    "from keras.models import Sequential\n",
    "from keras.layers import Dense\n",
    "from keras.layers import LeakyReLU,PReLU,ELU\n",
    "from keras.layers import Dropout"
   ]
  },
  {
   "cell_type": "code",
   "execution_count": 15,
   "metadata": {},
   "outputs": [],
   "source": [
    "# Initialising the ANN\n",
    "classifier = Sequential()\n",
    "\n",
    "# Adding the input layer and the first hidden layer\n",
    "classifier.add(Dense(6, kernel_initializer = 'he_uniform',activation='relu',input_dim = 11))\n",
    "\n",
    "# Adding the second hidden layer\n",
    "classifier.add(Dense(6, kernel_initializer = 'he_uniform',activation='relu'))\n",
    "# Adding the output layer\n",
    "classifier.add(Dense(1, kernel_initializer = 'glorot_uniform', activation = 'sigmoid'))"
   ]
  },
  {
   "cell_type": "code",
   "execution_count": 16,
   "metadata": {},
   "outputs": [],
   "source": [
    "# Compiling the ANN\n",
    "classifier.compile(optimizer = 'Adamax', loss = 'binary_crossentropy', metrics = ['accuracy'])"
   ]
  },
  {
   "cell_type": "code",
   "execution_count": 18,
   "metadata": {},
   "outputs": [
    {
     "name": "stdout",
     "output_type": "stream",
     "text": [
      "Epoch 1/100\n",
      "536/536 [==============================] - 4s 6ms/step - loss: 0.7060 - accuracy: 0.5557 - val_loss: 0.5433 - val_accuracy: 0.7917\n",
      "Epoch 2/100\n",
      "536/536 [==============================] - 2s 3ms/step - loss: 0.5120 - accuracy: 0.7944 - val_loss: 0.5082 - val_accuracy: 0.7955\n",
      "Epoch 3/100\n",
      "536/536 [==============================] - 1s 3ms/step - loss: 0.4935 - accuracy: 0.7962 - val_loss: 0.4989 - val_accuracy: 0.7955\n",
      "Epoch 4/100\n",
      "536/536 [==============================] - 1s 2ms/step - loss: 0.4857 - accuracy: 0.7962 - val_loss: 0.4911 - val_accuracy: 0.7955\n",
      "Epoch 5/100\n",
      "536/536 [==============================] - 3s 5ms/step - loss: 0.4790 - accuracy: 0.7962 - val_loss: 0.4847 - val_accuracy: 0.7955\n",
      "Epoch 6/100\n",
      "536/536 [==============================] - 2s 4ms/step - loss: 0.4732 - accuracy: 0.7962 - val_loss: 0.4787 - val_accuracy: 0.7955\n",
      "Epoch 7/100\n",
      "536/536 [==============================] - 1s 3ms/step - loss: 0.4678 - accuracy: 0.7962 - val_loss: 0.4731 - val_accuracy: 0.7955\n",
      "Epoch 8/100\n",
      "536/536 [==============================] - 1s 2ms/step - loss: 0.4627 - accuracy: 0.7962 - val_loss: 0.4678 - val_accuracy: 0.7955\n",
      "Epoch 9/100\n",
      "536/536 [==============================] - 2s 5ms/step - loss: 0.4576 - accuracy: 0.7962 - val_loss: 0.4627 - val_accuracy: 0.7952\n",
      "Epoch 10/100\n",
      "536/536 [==============================] - 2s 4ms/step - loss: 0.4531 - accuracy: 0.7951 - val_loss: 0.4584 - val_accuracy: 0.7936\n",
      "Epoch 11/100\n",
      "536/536 [==============================] - 1s 2ms/step - loss: 0.4487 - accuracy: 0.7949 - val_loss: 0.4542 - val_accuracy: 0.7936\n",
      "Epoch 12/100\n",
      "536/536 [==============================] - 1s 3ms/step - loss: 0.4446 - accuracy: 0.7940 - val_loss: 0.4500 - val_accuracy: 0.7933\n",
      "Epoch 13/100\n",
      "536/536 [==============================] - 2s 4ms/step - loss: 0.4403 - accuracy: 0.7953 - val_loss: 0.4461 - val_accuracy: 0.7936\n",
      "Epoch 14/100\n",
      "536/536 [==============================] - 1s 3ms/step - loss: 0.4362 - accuracy: 0.7964 - val_loss: 0.4427 - val_accuracy: 0.7989\n",
      "Epoch 15/100\n",
      "536/536 [==============================] - 3s 5ms/step - loss: 0.4320 - accuracy: 0.7994 - val_loss: 0.4386 - val_accuracy: 0.8012\n",
      "Epoch 16/100\n",
      "536/536 [==============================] - 1s 3ms/step - loss: 0.4279 - accuracy: 0.8018 - val_loss: 0.4347 - val_accuracy: 0.8012\n",
      "Epoch 17/100\n",
      "536/536 [==============================] - 3s 5ms/step - loss: 0.4233 - accuracy: 0.8054 - val_loss: 0.4308 - val_accuracy: 0.8076\n",
      "Epoch 18/100\n",
      "536/536 [==============================] - 3s 5ms/step - loss: 0.4187 - accuracy: 0.8089 - val_loss: 0.4268 - val_accuracy: 0.8084\n",
      "Epoch 19/100\n",
      "536/536 [==============================] - 3s 5ms/step - loss: 0.4143 - accuracy: 0.8134 - val_loss: 0.4228 - val_accuracy: 0.8103\n",
      "Epoch 20/100\n",
      "536/536 [==============================] - 3s 5ms/step - loss: 0.4100 - accuracy: 0.8153 - val_loss: 0.4190 - val_accuracy: 0.8122\n",
      "Epoch 21/100\n",
      "536/536 [==============================] - 2s 3ms/step - loss: 0.4056 - accuracy: 0.8177 - val_loss: 0.4151 - val_accuracy: 0.8156\n",
      "Epoch 22/100\n",
      "536/536 [==============================] - 3s 5ms/step - loss: 0.4013 - accuracy: 0.8212 - val_loss: 0.4114 - val_accuracy: 0.8164\n",
      "Epoch 23/100\n",
      "536/536 [==============================] - 1s 2ms/step - loss: 0.3972 - accuracy: 0.8238 - val_loss: 0.4080 - val_accuracy: 0.8186\n",
      "Epoch 24/100\n",
      "536/536 [==============================] - 1s 2ms/step - loss: 0.3933 - accuracy: 0.8261 - val_loss: 0.4049 - val_accuracy: 0.8194\n",
      "Epoch 25/100\n",
      "536/536 [==============================] - 2s 3ms/step - loss: 0.3898 - accuracy: 0.8278 - val_loss: 0.4019 - val_accuracy: 0.8228\n",
      "Epoch 26/100\n",
      "536/536 [==============================] - 3s 5ms/step - loss: 0.3865 - accuracy: 0.8306 - val_loss: 0.3990 - val_accuracy: 0.8247\n",
      "Epoch 27/100\n",
      "536/536 [==============================] - 1s 2ms/step - loss: 0.3833 - accuracy: 0.8304 - val_loss: 0.3960 - val_accuracy: 0.8254\n",
      "Epoch 28/100\n",
      "536/536 [==============================] - 1s 2ms/step - loss: 0.3802 - accuracy: 0.8332 - val_loss: 0.3931 - val_accuracy: 0.8258\n",
      "Epoch 29/100\n",
      "536/536 [==============================] - 3s 5ms/step - loss: 0.3773 - accuracy: 0.8354 - val_loss: 0.3908 - val_accuracy: 0.8277\n",
      "Epoch 30/100\n",
      "536/536 [==============================] - 3s 5ms/step - loss: 0.3747 - accuracy: 0.8393 - val_loss: 0.3885 - val_accuracy: 0.8289\n",
      "Epoch 31/100\n",
      "536/536 [==============================] - 1s 3ms/step - loss: 0.3720 - accuracy: 0.8399 - val_loss: 0.3863 - val_accuracy: 0.8300\n",
      "Epoch 32/100\n",
      "536/536 [==============================] - 2s 3ms/step - loss: 0.3697 - accuracy: 0.8414 - val_loss: 0.3842 - val_accuracy: 0.8315\n",
      "Epoch 33/100\n",
      "536/536 [==============================] - 3s 6ms/step - loss: 0.3672 - accuracy: 0.8462 - val_loss: 0.3821 - val_accuracy: 0.8289\n",
      "Epoch 34/100\n",
      "536/536 [==============================] - 3s 5ms/step - loss: 0.3651 - accuracy: 0.8446 - val_loss: 0.3800 - val_accuracy: 0.8357\n",
      "Epoch 35/100\n",
      "536/536 [==============================] - 1s 2ms/step - loss: 0.3630 - accuracy: 0.8489 - val_loss: 0.3783 - val_accuracy: 0.8372\n",
      "Epoch 36/100\n",
      "536/536 [==============================] - 3s 5ms/step - loss: 0.3611 - accuracy: 0.8503 - val_loss: 0.3767 - val_accuracy: 0.8379\n",
      "Epoch 37/100\n",
      "536/536 [==============================] - 3s 5ms/step - loss: 0.3592 - accuracy: 0.8522 - val_loss: 0.3752 - val_accuracy: 0.8391\n",
      "Epoch 38/100\n",
      "536/536 [==============================] - 3s 5ms/step - loss: 0.3577 - accuracy: 0.8520 - val_loss: 0.3736 - val_accuracy: 0.8444\n",
      "Epoch 39/100\n",
      "536/536 [==============================] - 2s 3ms/step - loss: 0.3559 - accuracy: 0.8545 - val_loss: 0.3725 - val_accuracy: 0.8448\n",
      "Epoch 40/100\n",
      "536/536 [==============================] - 3s 5ms/step - loss: 0.3544 - accuracy: 0.8545 - val_loss: 0.3707 - val_accuracy: 0.8429\n",
      "Epoch 41/100\n",
      "536/536 [==============================] - 3s 6ms/step - loss: 0.3528 - accuracy: 0.8561 - val_loss: 0.3696 - val_accuracy: 0.8436\n",
      "Epoch 42/100\n",
      "536/536 [==============================] - 3s 5ms/step - loss: 0.3515 - accuracy: 0.8578 - val_loss: 0.3684 - val_accuracy: 0.8463\n",
      "Epoch 43/100\n",
      "536/536 [==============================] - 2s 3ms/step - loss: 0.3503 - accuracy: 0.8574 - val_loss: 0.3676 - val_accuracy: 0.8466\n",
      "Epoch 44/100\n",
      "536/536 [==============================] - 3s 5ms/step - loss: 0.3490 - accuracy: 0.8586 - val_loss: 0.3666 - val_accuracy: 0.8474\n",
      "Epoch 45/100\n",
      "536/536 [==============================] - 3s 6ms/step - loss: 0.3479 - accuracy: 0.8602 - val_loss: 0.3657 - val_accuracy: 0.8470\n",
      "Epoch 46/100\n",
      "536/536 [==============================] - 3s 6ms/step - loss: 0.3469 - accuracy: 0.8604 - val_loss: 0.3651 - val_accuracy: 0.8485\n",
      "Epoch 47/100\n",
      "536/536 [==============================] - 3s 5ms/step - loss: 0.3460 - accuracy: 0.8604 - val_loss: 0.3644 - val_accuracy: 0.8489\n",
      "Epoch 48/100\n",
      "536/536 [==============================] - 2s 5ms/step - loss: 0.3452 - accuracy: 0.8615 - val_loss: 0.3637 - val_accuracy: 0.8497\n",
      "Epoch 49/100\n",
      "536/536 [==============================] - 2s 3ms/step - loss: 0.3442 - accuracy: 0.8612 - val_loss: 0.3632 - val_accuracy: 0.8512\n",
      "Epoch 50/100\n",
      "536/536 [==============================] - 1s 2ms/step - loss: 0.3433 - accuracy: 0.8619 - val_loss: 0.3626 - val_accuracy: 0.8501\n",
      "Epoch 51/100\n",
      "536/536 [==============================] - 1s 2ms/step - loss: 0.3426 - accuracy: 0.8617 - val_loss: 0.3623 - val_accuracy: 0.8527\n",
      "Epoch 52/100\n",
      "536/536 [==============================] - 2s 4ms/step - loss: 0.3421 - accuracy: 0.8617 - val_loss: 0.3616 - val_accuracy: 0.8512\n",
      "Epoch 53/100\n",
      "536/536 [==============================] - 3s 6ms/step - loss: 0.3414 - accuracy: 0.8623 - val_loss: 0.3611 - val_accuracy: 0.8519\n",
      "Epoch 54/100\n",
      "536/536 [==============================] - 3s 5ms/step - loss: 0.3408 - accuracy: 0.8630 - val_loss: 0.3603 - val_accuracy: 0.8497\n",
      "Epoch 55/100\n",
      "536/536 [==============================] - 1s 2ms/step - loss: 0.3402 - accuracy: 0.8621 - val_loss: 0.3601 - val_accuracy: 0.8512\n",
      "Epoch 56/100\n",
      "536/536 [==============================] - 1s 2ms/step - loss: 0.3398 - accuracy: 0.8627 - val_loss: 0.3598 - val_accuracy: 0.8519\n",
      "Epoch 57/100\n",
      "536/536 [==============================] - 3s 5ms/step - loss: 0.3390 - accuracy: 0.8636 - val_loss: 0.3596 - val_accuracy: 0.8516\n"
     ]
    },
    {
     "name": "stdout",
     "output_type": "stream",
     "text": [
      "Epoch 58/100\n",
      "536/536 [==============================] - 2s 3ms/step - loss: 0.3387 - accuracy: 0.8634 - val_loss: 0.3592 - val_accuracy: 0.8531\n",
      "Epoch 59/100\n",
      "536/536 [==============================] - 3s 5ms/step - loss: 0.3381 - accuracy: 0.8632 - val_loss: 0.3589 - val_accuracy: 0.8535\n",
      "Epoch 60/100\n",
      "536/536 [==============================] - 2s 5ms/step - loss: 0.3378 - accuracy: 0.8638 - val_loss: 0.3588 - val_accuracy: 0.8538\n",
      "Epoch 61/100\n",
      "536/536 [==============================] - 1s 3ms/step - loss: 0.3373 - accuracy: 0.8628 - val_loss: 0.3587 - val_accuracy: 0.8550\n",
      "Epoch 62/100\n",
      "536/536 [==============================] - 2s 4ms/step - loss: 0.3369 - accuracy: 0.8628 - val_loss: 0.3583 - val_accuracy: 0.8542\n",
      "Epoch 63/100\n",
      "536/536 [==============================] - 2s 4ms/step - loss: 0.3366 - accuracy: 0.8621 - val_loss: 0.3583 - val_accuracy: 0.8542\n",
      "Epoch 64/100\n",
      "536/536 [==============================] - 2s 5ms/step - loss: 0.3364 - accuracy: 0.8625 - val_loss: 0.3580 - val_accuracy: 0.8546\n",
      "Epoch 65/100\n",
      "536/536 [==============================] - 3s 5ms/step - loss: 0.3359 - accuracy: 0.8628 - val_loss: 0.3583 - val_accuracy: 0.8542\n",
      "Epoch 66/100\n",
      "536/536 [==============================] - 3s 5ms/step - loss: 0.3357 - accuracy: 0.8617 - val_loss: 0.3581 - val_accuracy: 0.8557\n",
      "Epoch 67/100\n",
      "536/536 [==============================] - 2s 4ms/step - loss: 0.3354 - accuracy: 0.8632 - val_loss: 0.3579 - val_accuracy: 0.8554\n",
      "Epoch 68/100\n",
      "536/536 [==============================] - 3s 5ms/step - loss: 0.3353 - accuracy: 0.8632 - val_loss: 0.3577 - val_accuracy: 0.8550\n",
      "Epoch 69/100\n",
      "536/536 [==============================] - 3s 5ms/step - loss: 0.3350 - accuracy: 0.8612 - val_loss: 0.3575 - val_accuracy: 0.8561\n",
      "Epoch 70/100\n",
      "536/536 [==============================] - 2s 4ms/step - loss: 0.3348 - accuracy: 0.8623 - val_loss: 0.3574 - val_accuracy: 0.8561\n",
      "Epoch 71/100\n",
      "536/536 [==============================] - 3s 5ms/step - loss: 0.3346 - accuracy: 0.8628 - val_loss: 0.3571 - val_accuracy: 0.8557\n",
      "Epoch 72/100\n",
      "536/536 [==============================] - 3s 5ms/step - loss: 0.3343 - accuracy: 0.8632 - val_loss: 0.3571 - val_accuracy: 0.8561\n",
      "Epoch 73/100\n",
      "536/536 [==============================] - 3s 5ms/step - loss: 0.3341 - accuracy: 0.8632 - val_loss: 0.3571 - val_accuracy: 0.8565\n",
      "Epoch 74/100\n",
      "536/536 [==============================] - 3s 5ms/step - loss: 0.3340 - accuracy: 0.8651 - val_loss: 0.3569 - val_accuracy: 0.8569\n",
      "Epoch 75/100\n",
      "536/536 [==============================] - 2s 4ms/step - loss: 0.3337 - accuracy: 0.8642 - val_loss: 0.3567 - val_accuracy: 0.8573\n",
      "Epoch 76/100\n",
      "536/536 [==============================] - 1s 2ms/step - loss: 0.3335 - accuracy: 0.8634 - val_loss: 0.3568 - val_accuracy: 0.8561\n",
      "Epoch 77/100\n",
      "536/536 [==============================] - 1s 3ms/step - loss: 0.3334 - accuracy: 0.8640 - val_loss: 0.3568 - val_accuracy: 0.8573\n",
      "Epoch 78/100\n",
      "536/536 [==============================] - 3s 5ms/step - loss: 0.3331 - accuracy: 0.8636 - val_loss: 0.3570 - val_accuracy: 0.8580\n",
      "Epoch 79/100\n",
      "536/536 [==============================] - 2s 4ms/step - loss: 0.3331 - accuracy: 0.8647 - val_loss: 0.3567 - val_accuracy: 0.8573\n",
      "Epoch 80/100\n",
      "536/536 [==============================] - 2s 4ms/step - loss: 0.3328 - accuracy: 0.8645 - val_loss: 0.3568 - val_accuracy: 0.8573\n",
      "Epoch 81/100\n",
      "536/536 [==============================] - 2s 4ms/step - loss: 0.3327 - accuracy: 0.8647 - val_loss: 0.3566 - val_accuracy: 0.8573\n",
      "Epoch 82/100\n",
      "536/536 [==============================] - 1s 2ms/step - loss: 0.3325 - accuracy: 0.8640 - val_loss: 0.3565 - val_accuracy: 0.8554\n",
      "Epoch 83/100\n",
      "536/536 [==============================] - 2s 3ms/step - loss: 0.3324 - accuracy: 0.8643 - val_loss: 0.3564 - val_accuracy: 0.8576\n",
      "Epoch 84/100\n",
      "536/536 [==============================] - 2s 4ms/step - loss: 0.3321 - accuracy: 0.8649 - val_loss: 0.3566 - val_accuracy: 0.8554\n",
      "Epoch 85/100\n",
      "536/536 [==============================] - 2s 4ms/step - loss: 0.3323 - accuracy: 0.8636 - val_loss: 0.3564 - val_accuracy: 0.8584\n",
      "Epoch 86/100\n",
      "536/536 [==============================] - 1s 2ms/step - loss: 0.3321 - accuracy: 0.8630 - val_loss: 0.3562 - val_accuracy: 0.8576\n",
      "Epoch 87/100\n",
      "536/536 [==============================] - 2s 3ms/step - loss: 0.3320 - accuracy: 0.8628 - val_loss: 0.3565 - val_accuracy: 0.8576\n",
      "Epoch 88/100\n",
      "536/536 [==============================] - 2s 4ms/step - loss: 0.3319 - accuracy: 0.8640 - val_loss: 0.3566 - val_accuracy: 0.8576\n",
      "Epoch 89/100\n",
      "536/536 [==============================] - 3s 5ms/step - loss: 0.3317 - accuracy: 0.8643 - val_loss: 0.3565 - val_accuracy: 0.8576\n",
      "Epoch 90/100\n",
      "536/536 [==============================] - 2s 4ms/step - loss: 0.3315 - accuracy: 0.8642 - val_loss: 0.3567 - val_accuracy: 0.8550\n",
      "Epoch 91/100\n",
      "536/536 [==============================] - 2s 4ms/step - loss: 0.3316 - accuracy: 0.8621 - val_loss: 0.3566 - val_accuracy: 0.8584\n",
      "Epoch 92/100\n",
      "536/536 [==============================] - 3s 5ms/step - loss: 0.3314 - accuracy: 0.8630 - val_loss: 0.3565 - val_accuracy: 0.8580\n",
      "Epoch 93/100\n",
      "536/536 [==============================] - 2s 5ms/step - loss: 0.3314 - accuracy: 0.8628 - val_loss: 0.3566 - val_accuracy: 0.8584\n",
      "Epoch 94/100\n",
      "536/536 [==============================] - 1s 2ms/step - loss: 0.3311 - accuracy: 0.8627 - val_loss: 0.3568 - val_accuracy: 0.8576\n",
      "Epoch 95/100\n",
      "536/536 [==============================] - 2s 4ms/step - loss: 0.3312 - accuracy: 0.8640 - val_loss: 0.3565 - val_accuracy: 0.8573\n",
      "Epoch 96/100\n",
      "536/536 [==============================] - 2s 4ms/step - loss: 0.3309 - accuracy: 0.8621 - val_loss: 0.3569 - val_accuracy: 0.8569\n",
      "Epoch 97/100\n",
      "536/536 [==============================] - 3s 5ms/step - loss: 0.3309 - accuracy: 0.8643 - val_loss: 0.3565 - val_accuracy: 0.8569\n",
      "Epoch 98/100\n",
      "536/536 [==============================] - 3s 5ms/step - loss: 0.3308 - accuracy: 0.8636 - val_loss: 0.3564 - val_accuracy: 0.8569\n",
      "Epoch 99/100\n",
      "536/536 [==============================] - 3s 5ms/step - loss: 0.3307 - accuracy: 0.8638 - val_loss: 0.3564 - val_accuracy: 0.8573\n",
      "Epoch 100/100\n",
      "536/536 [==============================] - 3s 5ms/step - loss: 0.3305 - accuracy: 0.8649 - val_loss: 0.3566 - val_accuracy: 0.8569\n"
     ]
    }
   ],
   "source": [
    "# Fitting the ANN to the Training set\n",
    "model_history=classifier.fit(X_train, y_train,validation_split=0.33, batch_size = 10, epochs = 100)"
   ]
  },
  {
   "cell_type": "code",
   "execution_count": 20,
   "metadata": {},
   "outputs": [
    {
     "name": "stdout",
     "output_type": "stream",
     "text": [
      "dict_keys(['loss', 'accuracy', 'val_loss', 'val_accuracy'])\n"
     ]
    },
    {
     "data": {
      "image/png": "[encoded data removed]",
      "text/plain": [
       "<Figure size 432x288 with 1 Axes>"
      ]
     },
     "metadata": {
      "needs_background": "light"
     },
     "output_type": "display_data"
    }
   ],
   "source": [
    "# list all data in history\n",
    "\n",
    "print(model_history.history.keys())\n",
    "# summarize history for accuracy\n",
    "plt.plot(model_history.history['accuracy'])\n",
    "plt.plot(model_history.history['val_accuracy'])\n",
    "plt.title('model accuracy')\n",
    "plt.ylabel('accuracy')\n",
    "plt.xlabel('epoch')\n",
    "plt.legend(['train', 'test'], loc='upper left')\n",
    "plt.show()"
   ]
  },
  {
   "cell_type": "code",
   "execution_count": 21,
   "metadata": {},
   "outputs": [
    {
     "data": {
      "image/png": "[encoded data removed]",
      "text/plain": [
       "<Figure size 432x288 with 1 Axes>"
      ]
     },
     "metadata": {
      "needs_background": "light"
     },
     "output_type": "display_data"
    }
   ],
   "source": [
    "# summarize history for loss\n",
    "plt.plot(model_history.history['loss'])\n",
    "plt.plot(model_history.history['val_loss'])\n",
    "plt.title('model loss')\n",
    "plt.ylabel('loss')\n",
    "plt.xlabel('epoch')\n",
    "plt.legend(['train', 'test'], loc='upper left')\n",
    "plt.show()"
   ]
  },
  {
   "cell_type": "code",
   "execution_count": 22,
   "metadata": {},
   "outputs": [],
   "source": [
    "# Predicting the Test set results\n",
    "y_pred = classifier.predict(X_test)\n",
    "y_pred = (y_pred > 0.5)"
   ]
  },
  {
   "cell_type": "code",
   "execution_count": 23,
   "metadata": {},
   "outputs": [],
   "source": [
    "# Making the Confusion Matrix\n",
    "from sklearn.metrics import confusion_matrix\n",
    "cm = confusion_matrix(y_test, y_pred)\n",
    "\n",
    "# Calculate the Accuracy\n",
    "from sklearn.metrics import accuracy_score\n",
    "score=accuracy_score(y_pred,y_test)"
   ]
  },
  {
   "cell_type": "code",
   "execution_count": 24,
   "metadata": {},
   "outputs": [
    {
     "name": "stdout",
     "output_type": "stream",
     "text": [
      "[[1507   88]\n",
      " [ 193  212]]\n",
      "0.8595\n"
     ]
    }
   ],
   "source": [
    "print(cm)\n",
    "print(score)"
   ]
  },
  {
   "cell_type": "code",
   "execution_count": null,
   "metadata": {},
   "outputs": [],
   "source": []
  }
 ],
 "metadata": {
  "kernelspec": {
   "display_name": "Python 3",
   "language": "python",
   "name": "python3"
  },
  "language_info": {
   "codemirror_mode": {
    "name": "ipython",
    "version": 3
   },
   "file_extension": ".py",
   "mimetype": "text/x-python",
   "name": "python",
   "nbconvert_exporter": "python",
   "pygments_lexer": "ipython3",
   "version": "3.8.3"
  }
 },
 "nbformat": 4,
 "nbformat_minor": 4
}
